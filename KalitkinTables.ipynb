{
 "cells": [
  {
   "cell_type": "code",
   "execution_count": 55,
   "metadata": {},
   "outputs": [
    {
     "data": {
      "text/latex": [
       "$$\\alpha(T = 100.000000, V = 50.000000) = 2^{\\frac{7}{6}} \\cdot 3^{\\frac{2}{3}} \\cdot              \\pi^{-\\frac{5}{3}} \\cdot T^{\\frac{1}{2}} \\cdot V^{\\frac{2}{3}} = 94.047238$$"
      ],
      "text/plain": [
       "<IPython.core.display.Math object>"
      ]
     },
     "metadata": {},
     "output_type": "display_data"
    },
    {
     "data": {
      "text/latex": [
       "$$\\phi_{0}(T = 100.000000, V = 50.000000) = \\phi(0) = \\frac{1}{T} \\cdot              (\\frac{4}{3} \\cdot \\frac{\\pi}{V})^{\\frac{1}{3}} = 0.004376$$"
      ],
      "text/plain": [
       "<IPython.core.display.Math object>"
      ]
     },
     "metadata": {},
     "output_type": "display_data"
    }
   ],
   "source": [
    "from IPython.display import Math, display\n",
    "import math\n",
    "\n",
    "ALPHA_EQ_STR = r'\\alpha(T = {:f}, V = {:f}) = 2^{{\\frac{{7}}{{6}}}} \\cdot 3^{{\\frac{{2}}{{3}}}} \\cdot \\\n",
    "             \\pi^{{-\\frac{{5}}{{3}}}} \\cdot T^{{\\frac{{1}}{{2}}}} \\cdot V^{{\\frac{{2}}{{3}}}} = {:f}'\n",
    "PHI_ZERO_STR = r'\\phi_{{0}}(T = {:f}, V = {:f}) = \\phi(0) = \\frac{{1}}{{T}} \\cdot \\\n",
    "             (\\frac{{4}}{{3}} \\cdot \\frac{{\\pi}}{{V}})^{{\\frac{{1}}{{3}}}} = {:f}'\n",
    "\n",
    "def koefA(temperature, volume):\n",
    "    return 2 **(7/6) * 3 ** (2/3) * math.pi ** (-5/3) * temperature ** (1/2) * volume ** (2/3)\n",
    "\n",
    "def phiZero(temperature, volume):\n",
    "    return (1 / temperature) * ((4/3) * math.pi / volume) ** (1/3)\n",
    "\n",
    "def printKoefA(temperature, volume, alpha):\n",
    "    display(Math(ALPHA_EQ_STR.format(temperature, volume, alpha)))\n",
    "    \n",
    "def printPhiZero(temperature, volume, phi):\n",
    "    display(Math(PHI_ZERO_STR.format(temperature, volume, phi)))\n",
    "    \n",
    "\n",
    "printKoefA(100, 50, koefA(100, 50))\n",
    "printPhiZero(100, 50, phiZero(100, 50))\n"
   ]
  }
 ],
 "metadata": {
  "kernelspec": {
   "display_name": "Python 3",
   "language": "python",
   "name": "python3"
  },
  "language_info": {
   "codemirror_mode": {
    "name": "ipython",
    "version": 3
   },
   "file_extension": ".py",
   "mimetype": "text/x-python",
   "name": "python",
   "nbconvert_exporter": "python",
   "pygments_lexer": "ipython3",
   "version": "3.6.1"
  }
 },
 "nbformat": 4,
 "nbformat_minor": 2
}
